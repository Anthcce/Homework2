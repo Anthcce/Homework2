{
 "cells": [
  {
   "cell_type": "markdown",
   "metadata": {},
   "source": [
    "## Homework #2\n",
    "Due 9/26/2024"
   ]
  },
  {
   "cell_type": "code",
   "execution_count": null,
   "metadata": {},
   "outputs": [],
   "source": [
    "#IMPORT LIBRARIES\n",
    "import cv2 #openCV (C++)\n",
    "import os\n",
    "import numpy as np\n",
    "import matplotlib.pyplot as plt"
   ]
  },
  {
   "cell_type": "markdown",
   "metadata": {},
   "source": [
    "## Problem 1\n",
    "Define a function to implement the peak-signal-to-noise calculation as described in lecture 4.  \n",
    "\n",
    "Note: In python functions have the form:"
   ]
  },
  {
   "cell_type": "code",
   "execution_count": null,
   "metadata": {},
   "outputs": [],
   "source": [
    "#DEFINE PSNR FUNCTION\n",
    "def myfunction(image1, image2, optional='defaultvalue'):\n",
    "\n",
    "    #ERROR CHECK\n",
    "    if image1.shape != image2.shape:\n",
    "        return\n",
    "    \n",
    "    #INITIALIZE VARIABLES\n",
    "    r, c, d = image1.shape\n",
    "    MSE = 0\n",
    "\n",
    "    #CALCULATE PSNR\n",
    "    for color in range(d):\n",
    "        for i in range(r):\n",
    "            for j in range(c):\n",
    "                PSNR = PSNR + (image1[r, c, d]- image2[r, c, d]**2)\n",
    "\n",
    "    pSNR = 20*np\n",
    "\n",
    "    return pSNR"
   ]
  },
  {
   "cell_type": "code",
   "execution_count": null,
   "metadata": {},
   "outputs": [],
   "source": []
  },
  {
   "cell_type": "markdown",
   "metadata": {},
   "source": [
    "## Problem 2\n",
    "* a) Implement a spatial frequency low-pass filter at 1/3 the Nyquist frequency of the image using a top-hat window (e.g. binary 0/1)\n",
    "* b) Calculate the peak-SNR comparing the two images\n",
    "* c) Use any image you like.  Put the image in the data folder for this repo "
   ]
  },
  {
   "cell_type": "code",
   "execution_count": null,
   "metadata": {},
   "outputs": [],
   "source": [
    "## bruh"
   ]
  },
  {
   "cell_type": "markdown",
   "metadata": {},
   "source": [
    "## Problem 3\n",
    "Implement a similar low-pass filter as problem 2 (1/3 the Nyquist) in the spatial domain as a kernel convolution (e.g. using the sinc function definitions in lecture 5).  Use a top-hat window (e.g. without worrying about tapering the edges).  Use the same image you used in problem 2. "
   ]
  },
  {
   "cell_type": "markdown",
   "metadata": {},
   "source": [
    "## Problem 4\n",
    "Define a function to implement a mean smoothing kernel filter.  \n",
    "\n",
    "[ECE1390]\n",
    "* As an input to your function, allow the user to select between a arithmatic, geometric, or harmonic mean\n",
    "* Assume a fixed 3x3 binary morphological kernel \n",
    "\n",
    "[ECE 2690]\n",
    "* As an input to your function, allow the user to select between a arithmatic, geometric, harmonic mean, or contraharmonic mean (\"m\" should be an input parameter)\n",
    "* Design your function to allow any arbitary binary morphological kernel "
   ]
  },
  {
   "cell_type": "markdown",
   "metadata": {},
   "source": [
    "## Problem 5 [ECE 2390 only]\n",
    "Define a function to compute the discrete cosine transform of an image.  Include code to pad the image appropriately. The equation for the DCT was given in lecture 4  "
   ]
  }
 ],
 "metadata": {
  "kernelspec": {
   "display_name": "base",
   "language": "python",
   "name": "python3"
  },
  "language_info": {
   "name": "python",
   "version": "3.11.7"
  }
 },
 "nbformat": 4,
 "nbformat_minor": 2
}
